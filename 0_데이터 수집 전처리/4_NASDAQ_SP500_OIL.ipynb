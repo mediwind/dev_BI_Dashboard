{
 "cells": [
  {
   "cell_type": "code",
   "execution_count": 1,
   "id": "3122e0fc",
   "metadata": {},
   "outputs": [],
   "source": [
    "from IPython.core.interactiveshell import InteractiveShell\n",
    "InteractiveShell.ast_node_interactivity=\"all\""
   ]
  },
  {
   "cell_type": "code",
   "execution_count": 4,
   "id": "5bd5eeb2",
   "metadata": {},
   "outputs": [],
   "source": [
    "import pandas as pd\n",
    "import yfinance as yf"
   ]
  },
  {
   "cell_type": "code",
   "execution_count": 10,
   "id": "110bb05f",
   "metadata": {},
   "outputs": [
    {
     "name": "stdout",
     "output_type": "stream",
     "text": [
      "          Date         Open         High          Low        Close  \\\n",
      "0   2000-01-01  1360.160034  1394.479980  1350.140015  1394.459961   \n",
      "1   2000-02-01  1348.050049  1369.630005  1348.050049  1366.420044   \n",
      "2   2000-03-01  1487.920044  1519.810059  1484.380005  1498.579956   \n",
      "3   2000-04-01  1464.920044  1473.619995  1448.150024  1452.430054   \n",
      "4   2000-05-01  1422.439941  1434.489990  1415.500000  1420.599976   \n",
      "..         ...          ...          ...          ...          ...   \n",
      "282 2023-07-01  4584.819824  4594.220215  4573.140137  4588.959961   \n",
      "283 2023-08-01  4517.009766  4532.259766  4507.390137  4507.660156   \n",
      "284 2023-09-01  4328.180176  4333.149902  4274.859863  4288.049805   \n",
      "285 2023-10-01  4171.330078  4195.549805  4153.120117  4193.799805   \n",
      "286 2023-11-01  4554.870117  4569.890137  4537.240234  4567.799805   \n",
      "\n",
      "         Volume  Dividends  Stock Splits  \n",
      "0     993800000        0.0           0.0  \n",
      "1    1204300000        0.0           0.0  \n",
      "2    1227400000        0.0           0.0  \n",
      "3     984600000        0.0           0.0  \n",
      "4     960500000        0.0           0.0  \n",
      "..          ...        ...           ...  \n",
      "282  4503600000        0.0           0.0  \n",
      "283  3946360000        0.0           0.0  \n",
      "284  3865960000        0.0           0.0  \n",
      "285  4249470000        0.0           0.0  \n",
      "286  5399300000        0.0           0.0  \n",
      "\n",
      "[287 rows x 8 columns]\n"
     ]
    },
    {
     "name": "stderr",
     "output_type": "stream",
     "text": [
      "C:\\Users\\User\\AppData\\Local\\Temp\\ipykernel_12272\\472926170.py:20: UserWarning: Converting to PeriodArray/Index representation will drop timezone information.\n",
      "  monthly_data['Date'] = monthly_data['Date'].dt.to_period('M').dt.to_timestamp()\n"
     ]
    }
   ],
   "source": [
    "ticker_symbol = \"^GSPC\"\n",
    "\n",
    "ticker = yf.Ticker(ticker_symbol)\n",
    "\n",
    "historical_data = ticker.history(start=\"2000-01-01\", end=\"2023-12-01\")\n",
    "\n",
    "monthly_data = historical_data.resample('M').last()\n",
    "\n",
    "monthly_data.reset_index(inplace=True)\n",
    "\n",
    "monthly_data['Date'] = monthly_data['Date'].dt.to_period('M').dt.to_timestamp()\n",
    "\n",
    "print(monthly_data)\n",
    "\n",
    "monthly_data.to_csv('monthly_sp500_data.csv', index=False)"
   ]
  },
  {
   "cell_type": "code",
   "execution_count": 9,
   "id": "bffe9ffb",
   "metadata": {},
   "outputs": [
    {
     "name": "stdout",
     "output_type": "stream",
     "text": [
      "          Date          Open          High           Low         Close  \\\n",
      "0   2000-01-01   3873.840088   3940.459961   3748.030029   3940.350098   \n",
      "1   2000-02-01   4646.640137   4698.459961   4637.169922   4696.689941   \n",
      "2   2000-03-01   4550.209961   4606.479980   4381.379883   4572.830078   \n",
      "3   2000-04-01   3830.610107   3873.850098   3810.060059   3860.659912   \n",
      "4   2000-05-01   3428.250000   3501.510010   3399.620117   3400.909912   \n",
      "..         ...           ...           ...           ...           ...   \n",
      "282 2023-07-01  14337.900391  14370.910156  14292.750000  14346.019531   \n",
      "283 2023-08-01  14041.540039  14114.669922  14010.480469  14034.969727   \n",
      "284 2023-09-01  13337.709961  13382.980469  13177.089844  13219.320312   \n",
      "285 2023-10-01  12786.620117  12859.400391  12697.040039  12851.240234   \n",
      "286 2023-11-01  14265.049805  14289.200195  14127.049805  14226.219727   \n",
      "\n",
      "         Volume  Dividends  Stock Splits  \n",
      "0    1507630000        0.0           0.0  \n",
      "1    2088840000        0.0           0.0  \n",
      "2    2118100000        0.0           0.0  \n",
      "3    1583710000        0.0           0.0  \n",
      "4    1533730000        0.0           0.0  \n",
      "..          ...        ...           ...  \n",
      "282  4934440000        0.0           0.0  \n",
      "283  4568610000        0.0           0.0  \n",
      "284  5138500000        0.0           0.0  \n",
      "285  4315630000        0.0           0.0  \n",
      "286  5678070000        0.0           0.0  \n",
      "\n",
      "[287 rows x 8 columns]\n"
     ]
    },
    {
     "name": "stderr",
     "output_type": "stream",
     "text": [
      "C:\\Users\\User\\AppData\\Local\\Temp\\ipykernel_12272\\609054437.py:20: UserWarning: Converting to PeriodArray/Index representation will drop timezone information.\n",
      "  monthly_data['Date'] = monthly_data['Date'].dt.to_period('M').dt.to_timestamp()\n"
     ]
    }
   ],
   "source": [
    "import yfinance as yf\n",
    "import pandas as pd\n",
    "\n",
    "ticker_symbol = \"^IXIC\"\n",
    "\n",
    "ticker = yf.Ticker(ticker_symbol)\n",
    "\n",
    "historical_data = ticker.history(start=\"2000-01-01\", end=\"2023-12-01\")\n",
    "\n",
    "monthly_data = historical_data.resample('M').last()\n",
    "\n",
    "monthly_data.reset_index(inplace=True)\n",
    "\n",
    "monthly_data['Date'] = monthly_data['Date'].dt.to_period('M').dt.to_timestamp()\n",
    "\n",
    "print(monthly_data)\n",
    "\n",
    "monthly_data.to_csv('monthly_nasdaq_data.csv', index=False)"
   ]
  },
  {
   "cell_type": "code",
   "execution_count": 11,
   "id": "58e5cac0",
   "metadata": {},
   "outputs": [
    {
     "name": "stdout",
     "output_type": "stream",
     "text": [
      "           Date       Close_x      Close_y\n",
      "0    2000-01-01   3940.350098  1394.459961\n",
      "1    2000-02-01   4696.689941  1366.420044\n",
      "2    2000-03-01   4572.830078  1498.579956\n",
      "3    2000-04-01   3860.659912  1452.430054\n",
      "4    2000-05-01   3400.909912  1420.599976\n",
      "..          ...           ...          ...\n",
      "282  2023-07-01  14346.019530  4588.959961\n",
      "283  2023-08-01  14034.969730  4507.660156\n",
      "284  2023-09-01  13219.320310  4288.049805\n",
      "285  2023-10-01  12851.240230  4193.799805\n",
      "286  2023-11-01  14226.219730  4567.799805\n",
      "\n",
      "[287 rows x 3 columns]\n"
     ]
    }
   ],
   "source": [
    "import pandas as pd\n",
    "\n",
    "nasdaq_data = pd.read_csv('monthly_nasdaq_data.csv')\n",
    "\n",
    "sp500_data = pd.read_csv('monthly_sp500_data.csv')\n",
    "\n",
    "merged_data = pd.merge(nasdaq_data, sp500_data, on='Date', how='left')\n",
    "\n",
    "print(merged_data)\n",
    "\n",
    "merged_data.to_csv('merged_nasdaq_sp500_data.csv', index=False)"
   ]
  }
 ],
 "metadata": {
  "kernelspec": {
   "display_name": "Python 3 (ipykernel)",
   "language": "python",
   "name": "python3"
  },
  "language_info": {
   "codemirror_mode": {
    "name": "ipython",
    "version": 3
   },
   "file_extension": ".py",
   "mimetype": "text/x-python",
   "name": "python",
   "nbconvert_exporter": "python",
   "pygments_lexer": "ipython3",
   "version": "3.10.13"
  }
 },
 "nbformat": 4,
 "nbformat_minor": 5
}
