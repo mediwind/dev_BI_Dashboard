{
 "cells": [
  {
   "cell_type": "code",
   "execution_count": 1,
   "id": "b825497e",
   "metadata": {},
   "outputs": [],
   "source": [
    "from IPython.core.interactiveshell import InteractiveShell\n",
    "InteractiveShell.ast_node_interactivity=\"all\""
   ]
  },
  {
   "cell_type": "code",
   "execution_count": 29,
   "id": "48941ee5",
   "metadata": {},
   "outputs": [
    {
     "name": "stdout",
     "output_type": "stream",
     "text": [
      "0       ADBE\n",
      "1        ADP\n",
      "2       ABNB\n",
      "3       ALGN\n",
      "4      GOOGL\n",
      "       ...  \n",
      "96       WBD\n",
      "97      WDAY\n",
      "98       XEL\n",
      "99        ZM\n",
      "100       ZS\n",
      "Name: Ticker, Length: 101, dtype: object\n"
     ]
    }
   ],
   "source": [
    "import pandas as pd\n",
    "\n",
    "url = 'https://en.wikipedia.org/wiki/NASDAQ-100'\n",
    "\n",
    "tables = pd.read_html(url)\n",
    "\n",
    "nasdaq_100_table = tables[4]\n",
    "\n",
    "tickers = nasdaq_100_table['Ticker']\n",
    "\n",
    "print(tickers)"
   ]
  },
  {
   "cell_type": "code",
   "execution_count": 30,
   "id": "c31d76b6",
   "metadata": {
    "scrolled": true
   },
   "outputs": [],
   "source": [
    "tickers_list = tickers.tolist()\n",
    "tickers_list.sort()"
   ]
  },
  {
   "cell_type": "code",
   "execution_count": 31,
   "id": "48461b32",
   "metadata": {
    "scrolled": true
   },
   "outputs": [
    {
     "data": {
      "text/plain": [
       "101"
      ]
     },
     "execution_count": 31,
     "metadata": {},
     "output_type": "execute_result"
    },
    {
     "data": {
      "text/plain": [
       "['AAPL',\n",
       " 'ABNB',\n",
       " 'ADBE',\n",
       " 'ADI',\n",
       " 'ADP',\n",
       " 'ADSK',\n",
       " 'AEP',\n",
       " 'ALGN',\n",
       " 'AMAT',\n",
       " 'AMD',\n",
       " 'AMGN',\n",
       " 'AMZN',\n",
       " 'ANSS',\n",
       " 'ASML',\n",
       " 'AVGO',\n",
       " 'AZN',\n",
       " 'BIIB',\n",
       " 'BKNG',\n",
       " 'BKR',\n",
       " 'CDNS',\n",
       " 'CEG',\n",
       " 'CHTR',\n",
       " 'CMCSA',\n",
       " 'COST',\n",
       " 'CPRT',\n",
       " 'CRWD',\n",
       " 'CSCO',\n",
       " 'CSGP',\n",
       " 'CSX',\n",
       " 'CTAS',\n",
       " 'CTSH',\n",
       " 'DDOG',\n",
       " 'DLTR',\n",
       " 'DXCM',\n",
       " 'EA',\n",
       " 'EBAY',\n",
       " 'ENPH',\n",
       " 'EXC',\n",
       " 'FANG',\n",
       " 'FAST',\n",
       " 'FTNT',\n",
       " 'GEHC',\n",
       " 'GFS',\n",
       " 'GILD',\n",
       " 'GOOG',\n",
       " 'GOOGL',\n",
       " 'HON',\n",
       " 'IDXX',\n",
       " 'ILMN',\n",
       " 'INTC',\n",
       " 'INTU',\n",
       " 'ISRG',\n",
       " 'JD',\n",
       " 'KDP',\n",
       " 'KHC',\n",
       " 'KLAC',\n",
       " 'LCID',\n",
       " 'LRCX',\n",
       " 'LULU',\n",
       " 'MAR',\n",
       " 'MCHP',\n",
       " 'MDLZ',\n",
       " 'MELI',\n",
       " 'META',\n",
       " 'MNST',\n",
       " 'MRNA',\n",
       " 'MRVL',\n",
       " 'MSFT',\n",
       " 'MU',\n",
       " 'NFLX',\n",
       " 'NVDA',\n",
       " 'NXPI',\n",
       " 'ODFL',\n",
       " 'ON',\n",
       " 'ORLY',\n",
       " 'PANW',\n",
       " 'PAYX',\n",
       " 'PCAR',\n",
       " 'PDD',\n",
       " 'PEP',\n",
       " 'PYPL',\n",
       " 'QCOM',\n",
       " 'REGN',\n",
       " 'ROST',\n",
       " 'SBUX',\n",
       " 'SGEN',\n",
       " 'SIRI',\n",
       " 'SNPS',\n",
       " 'TEAM',\n",
       " 'TMUS',\n",
       " 'TSLA',\n",
       " 'TTD',\n",
       " 'TXN',\n",
       " 'VRSK',\n",
       " 'VRTX',\n",
       " 'WBA',\n",
       " 'WBD',\n",
       " 'WDAY',\n",
       " 'XEL',\n",
       " 'ZM',\n",
       " 'ZS']"
      ]
     },
     "execution_count": 31,
     "metadata": {},
     "output_type": "execute_result"
    }
   ],
   "source": [
    "len(tickers_list)\n",
    "tickers_list"
   ]
  },
  {
   "cell_type": "code",
   "execution_count": 37,
   "id": "a5d37985",
   "metadata": {},
   "outputs": [
    {
     "data": {
      "text/plain": [
       "\"AAPL = NULLIF(@var2, ''), ABNB = NULLIF(@var3, ''), ADBE = NULLIF(@var4, ''), ADI = NULLIF(@var5, ''), ADP = NULLIF(@var6, ''), ADSK = NULLIF(@var7, ''), AEP = NULLIF(@var8, ''), ALGN = NULLIF(@var9, ''), AMAT = NULLIF(@var10, ''), AMD = NULLIF(@var11, ''), AMGN = NULLIF(@var12, ''), AMZN = NULLIF(@var13, ''), ANSS = NULLIF(@var14, ''), ASML = NULLIF(@var15, ''), AVGO = NULLIF(@var16, ''), AZN = NULLIF(@var17, ''), BIIB = NULLIF(@var18, ''), BKNG = NULLIF(@var19, ''), BKR = NULLIF(@var20, ''), CDNS = NULLIF(@var21, ''), CEG = NULLIF(@var22, ''), CHTR = NULLIF(@var23, ''), CMCSA = NULLIF(@var24, ''), COST = NULLIF(@var25, ''), CPRT = NULLIF(@var26, ''), CRWD = NULLIF(@var27, ''), CSCO = NULLIF(@var28, ''), CSGP = NULLIF(@var29, ''), CSX = NULLIF(@var30, ''), CTAS = NULLIF(@var31, ''), CTSH = NULLIF(@var32, ''), DDOG = NULLIF(@var33, ''), DLTR = NULLIF(@var34, ''), DXCM = NULLIF(@var35, ''), EA = NULLIF(@var36, ''), EBAY = NULLIF(@var37, ''), ENPH = NULLIF(@var38, ''), EXC = NULLIF(@var39, ''), FANG = NULLIF(@var40, ''), FAST = NULLIF(@var41, ''), FTNT = NULLIF(@var42, ''), GEHC = NULLIF(@var43, ''), GFS = NULLIF(@var44, ''), GILD = NULLIF(@var45, ''), GOOG = NULLIF(@var46, ''), GOOGL = NULLIF(@var47, ''), HON = NULLIF(@var48, ''), IDXX = NULLIF(@var49, ''), ILMN = NULLIF(@var50, ''), INTC = NULLIF(@var51, ''), INTU = NULLIF(@var52, ''), ISRG = NULLIF(@var53, ''), JD = NULLIF(@var54, ''), KDP = NULLIF(@var55, ''), KHC = NULLIF(@var56, ''), KLAC = NULLIF(@var57, ''), LCID = NULLIF(@var58, ''), LRCX = NULLIF(@var59, ''), LULU = NULLIF(@var60, ''), MAR = NULLIF(@var61, ''), MCHP = NULLIF(@var62, ''), MDLZ = NULLIF(@var63, ''), MELI = NULLIF(@var64, ''), META = NULLIF(@var65, ''), MNST = NULLIF(@var66, ''), MRNA = NULLIF(@var67, ''), MRVL = NULLIF(@var68, ''), MSFT = NULLIF(@var69, ''), MU = NULLIF(@var70, ''), NFLX = NULLIF(@var71, ''), NVDA = NULLIF(@var72, ''), NXPI = NULLIF(@var73, ''), ODFL = NULLIF(@var74, ''), ON = NULLIF(@var75, ''), ORLY = NULLIF(@var76, ''), PANW = NULLIF(@var77, ''), PAYX = NULLIF(@var78, ''), PCAR = NULLIF(@var79, ''), PDD = NULLIF(@var80, ''), PEP = NULLIF(@var81, ''), PYPL = NULLIF(@var82, ''), QCOM = NULLIF(@var83, ''), REGN = NULLIF(@var84, ''), ROST = NULLIF(@var85, ''), SBUX = NULLIF(@var86, ''), SGEN = NULLIF(@var87, ''), SIRI = NULLIF(@var88, ''), SNPS = NULLIF(@var89, ''), TEAM = NULLIF(@var90, ''), TMUS = NULLIF(@var91, ''), TSLA = NULLIF(@var92, ''), TTD = NULLIF(@var93, ''), TXN = NULLIF(@var94, ''), VRSK = NULLIF(@var95, ''), VRTX = NULLIF(@var96, ''), WBA = NULLIF(@var97, ''), WBD = NULLIF(@var98, ''), WDAY = NULLIF(@var99, ''), XEL = NULLIF(@var100, ''), ZM = NULLIF(@var101, ''), ZS = NULLIF(@var102, '')\""
      ]
     },
     "execution_count": 37,
     "metadata": {},
     "output_type": "execute_result"
    }
   ],
   "source": [
    "columns = list()\n",
    "\n",
    "for i, j in zip(tickers_list, range(2, 103)):\n",
    "    columns.append(f'{i} = NULLIF(@var{j}, \\'\\')')\n",
    "\n",
    "', '.join(columns)"
   ]
  },
  {
   "cell_type": "code",
   "execution_count": 38,
   "id": "1934fb72",
   "metadata": {},
   "outputs": [
    {
     "name": "stdout",
     "output_type": "stream",
     "text": [
      "@var1, @var2, @var3, @var4, @var5, @var6, @var7, @var8, @var9, @var10, @var11, @var12, @var13, @var14, @var15, @var16, @var17, @var18, @var19, @var20, @var21, @var22, @var23, @var24, @var25, @var26, @var27, @var28, @var29, @var30, @var31, @var32, @var33, @var34, @var35, @var36, @var37, @var38, @var39, @var40, @var41, @var42, @var43, @var44, @var45, @var46, @var47, @var48, @var49, @var50, @var51, @var52, @var53, @var54, @var55, @var56, @var57, @var58, @var59, @var60, @var61, @var62, @var63, @var64, @var65, @var66, @var67, @var68, @var69, @var70, @var71, @var72, @var73, @var74, @var75, @var76, @var77, @var78, @var79, @var80, @var81, @var82, @var83, @var84, @var85, @var86, @var87, @var88, @var89, @var90, @var91, @var92, @var93, @var94, @var95, @var96, @var97, @var98, @var99, @var100, @var101, @var102, "
     ]
    }
   ],
   "source": [
    "for i in range(1, 103):\n",
    "    print(f'@var{i}, ',end='')"
   ]
  },
  {
   "cell_type": "code",
   "execution_count": 39,
   "id": "faa357db",
   "metadata": {},
   "outputs": [
    {
     "data": {
      "text/plain": [
       "101"
      ]
     },
     "execution_count": 39,
     "metadata": {},
     "output_type": "execute_result"
    }
   ],
   "source": [
    "len(tickers_list)"
   ]
  },
  {
   "cell_type": "code",
   "execution_count": 40,
   "id": "19fae95c",
   "metadata": {
    "scrolled": true
   },
   "outputs": [
    {
     "data": {
      "text/plain": [
       "['AAPL',\n",
       " 'ABNB',\n",
       " 'ADBE',\n",
       " 'ADI',\n",
       " 'ADP',\n",
       " 'ADSK',\n",
       " 'AEP',\n",
       " 'ALGN',\n",
       " 'AMAT',\n",
       " 'AMD',\n",
       " 'AMGN',\n",
       " 'AMZN',\n",
       " 'ANSS',\n",
       " 'ASML',\n",
       " 'AVGO',\n",
       " 'AZN',\n",
       " 'BIIB',\n",
       " 'BKNG',\n",
       " 'BKR',\n",
       " 'CDNS',\n",
       " 'CEG',\n",
       " 'CHTR',\n",
       " 'CMCSA',\n",
       " 'COST',\n",
       " 'CPRT',\n",
       " 'CRWD',\n",
       " 'CSCO',\n",
       " 'CSGP',\n",
       " 'CSX',\n",
       " 'CTAS',\n",
       " 'CTSH',\n",
       " 'DDOG',\n",
       " 'DLTR',\n",
       " 'DXCM',\n",
       " 'EA',\n",
       " 'EBAY',\n",
       " 'ENPH',\n",
       " 'EXC',\n",
       " 'FANG',\n",
       " 'FAST',\n",
       " 'FTNT',\n",
       " 'GEHC',\n",
       " 'GFS',\n",
       " 'GILD',\n",
       " 'GOOG',\n",
       " 'GOOGL',\n",
       " 'HON',\n",
       " 'IDXX',\n",
       " 'ILMN',\n",
       " 'INTC',\n",
       " 'INTU',\n",
       " 'ISRG',\n",
       " 'JD',\n",
       " 'KDP',\n",
       " 'KHC',\n",
       " 'KLAC',\n",
       " 'LCID',\n",
       " 'LRCX',\n",
       " 'LULU',\n",
       " 'MAR',\n",
       " 'MCHP',\n",
       " 'MDLZ',\n",
       " 'MELI',\n",
       " 'META',\n",
       " 'MNST',\n",
       " 'MRNA',\n",
       " 'MRVL',\n",
       " 'MSFT',\n",
       " 'MU',\n",
       " 'NFLX',\n",
       " 'NVDA',\n",
       " 'NXPI',\n",
       " 'ODFL',\n",
       " 'ON',\n",
       " 'ORLY',\n",
       " 'PANW',\n",
       " 'PAYX',\n",
       " 'PCAR',\n",
       " 'PDD',\n",
       " 'PEP',\n",
       " 'PYPL',\n",
       " 'QCOM',\n",
       " 'REGN',\n",
       " 'ROST',\n",
       " 'SBUX',\n",
       " 'SGEN',\n",
       " 'SIRI',\n",
       " 'SNPS',\n",
       " 'TEAM',\n",
       " 'TMUS',\n",
       " 'TSLA',\n",
       " 'TTD',\n",
       " 'TXN',\n",
       " 'VRSK',\n",
       " 'VRTX',\n",
       " 'WBA',\n",
       " 'WBD',\n",
       " 'WDAY',\n",
       " 'XEL',\n",
       " 'ZM',\n",
       " 'ZS']"
      ]
     },
     "execution_count": 40,
     "metadata": {},
     "output_type": "execute_result"
    }
   ],
   "source": [
    "tickers_list"
   ]
  }
 ],
 "metadata": {
  "kernelspec": {
   "display_name": "Python 3 (ipykernel)",
   "language": "python",
   "name": "python3"
  },
  "language_info": {
   "codemirror_mode": {
    "name": "ipython",
    "version": 3
   },
   "file_extension": ".py",
   "mimetype": "text/x-python",
   "name": "python",
   "nbconvert_exporter": "python",
   "pygments_lexer": "ipython3",
   "version": "3.10.13"
  }
 },
 "nbformat": 4,
 "nbformat_minor": 5
}
