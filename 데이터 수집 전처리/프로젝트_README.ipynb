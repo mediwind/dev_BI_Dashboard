{
  "nbformat": 4,
  "nbformat_minor": 0,
  "metadata": {
    "colab": {
      "provenance": []
    },
    "kernelspec": {
      "name": "python3",
      "display_name": "Python 3"
    },
    "language_info": {
      "name": "python"
    }
  },
  "cells": [
    {
      "cell_type": "code",
      "execution_count": null,
      "metadata": {
        "id": "6dKRUNg8JXTC"
      },
      "outputs": [],
      "source": [
        "%load_ext sql"
      ]
    },
    {
      "cell_type": "code",
      "source": [
        "!pip install ipython-sql==0.4.1\n",
        "!pip install SQLAlchemy==1.4.49"
      ],
      "metadata": {
        "colab": {
          "base_uri": "https://localhost:8080/"
        },
        "id": "yoL-Op9_JYxB",
        "outputId": "a2d894ab-6709-49f5-d8c7-786acffa1799"
      },
      "execution_count": null,
      "outputs": [
        {
          "output_type": "stream",
          "name": "stdout",
          "text": [
            "Requirement already satisfied: ipython-sql==0.4.1 in /usr/local/lib/python3.10/dist-packages (0.4.1)\n",
            "Requirement already satisfied: prettytable<1 in /usr/local/lib/python3.10/dist-packages (from ipython-sql==0.4.1) (0.7.2)\n",
            "Requirement already satisfied: ipython>=1.0 in /usr/local/lib/python3.10/dist-packages (from ipython-sql==0.4.1) (7.34.0)\n",
            "Requirement already satisfied: sqlalchemy>=0.6.7 in /usr/local/lib/python3.10/dist-packages (from ipython-sql==0.4.1) (1.4.49)\n",
            "Requirement already satisfied: sqlparse in /usr/local/lib/python3.10/dist-packages (from ipython-sql==0.4.1) (0.4.4)\n",
            "Requirement already satisfied: six in /usr/local/lib/python3.10/dist-packages (from ipython-sql==0.4.1) (1.16.0)\n",
            "Requirement already satisfied: ipython-genutils>=0.1.0 in /usr/local/lib/python3.10/dist-packages (from ipython-sql==0.4.1) (0.2.0)\n",
            "Requirement already satisfied: setuptools>=18.5 in /usr/local/lib/python3.10/dist-packages (from ipython>=1.0->ipython-sql==0.4.1) (67.7.2)\n",
            "Requirement already satisfied: jedi>=0.16 in /usr/local/lib/python3.10/dist-packages (from ipython>=1.0->ipython-sql==0.4.1) (0.19.1)\n",
            "Requirement already satisfied: decorator in /usr/local/lib/python3.10/dist-packages (from ipython>=1.0->ipython-sql==0.4.1) (4.4.2)\n",
            "Requirement already satisfied: pickleshare in /usr/local/lib/python3.10/dist-packages (from ipython>=1.0->ipython-sql==0.4.1) (0.7.5)\n",
            "Requirement already satisfied: traitlets>=4.2 in /usr/local/lib/python3.10/dist-packages (from ipython>=1.0->ipython-sql==0.4.1) (5.7.1)\n",
            "Requirement already satisfied: prompt-toolkit!=3.0.0,!=3.0.1,<3.1.0,>=2.0.0 in /usr/local/lib/python3.10/dist-packages (from ipython>=1.0->ipython-sql==0.4.1) (3.0.41)\n",
            "Requirement already satisfied: pygments in /usr/local/lib/python3.10/dist-packages (from ipython>=1.0->ipython-sql==0.4.1) (2.16.1)\n",
            "Requirement already satisfied: backcall in /usr/local/lib/python3.10/dist-packages (from ipython>=1.0->ipython-sql==0.4.1) (0.2.0)\n",
            "Requirement already satisfied: matplotlib-inline in /usr/local/lib/python3.10/dist-packages (from ipython>=1.0->ipython-sql==0.4.1) (0.1.6)\n",
            "Requirement already satisfied: pexpect>4.3 in /usr/local/lib/python3.10/dist-packages (from ipython>=1.0->ipython-sql==0.4.1) (4.9.0)\n",
            "Requirement already satisfied: greenlet!=0.4.17 in /usr/local/lib/python3.10/dist-packages (from sqlalchemy>=0.6.7->ipython-sql==0.4.1) (3.0.1)\n",
            "Requirement already satisfied: parso<0.9.0,>=0.8.3 in /usr/local/lib/python3.10/dist-packages (from jedi>=0.16->ipython>=1.0->ipython-sql==0.4.1) (0.8.3)\n",
            "Requirement already satisfied: ptyprocess>=0.5 in /usr/local/lib/python3.10/dist-packages (from pexpect>4.3->ipython>=1.0->ipython-sql==0.4.1) (0.7.0)\n",
            "Requirement already satisfied: wcwidth in /usr/local/lib/python3.10/dist-packages (from prompt-toolkit!=3.0.0,!=3.0.1,<3.1.0,>=2.0.0->ipython>=1.0->ipython-sql==0.4.1) (0.2.12)\n",
            "Requirement already satisfied: SQLAlchemy==1.4.49 in /usr/local/lib/python3.10/dist-packages (1.4.49)\n",
            "Requirement already satisfied: greenlet!=0.4.17 in /usr/local/lib/python3.10/dist-packages (from SQLAlchemy==1.4.49) (3.0.1)\n"
          ]
        }
      ]
    },
    {
      "cell_type": "markdown",
      "source": [
        "### 여러분 각자의 Redshift로 연결해주세요."
      ],
      "metadata": {
        "id": "mXgznufVGKdT"
      }
    },
    {
      "cell_type": "code",
      "source": [
        "%sql postgresql://(사용자):(패스워드)@(엔드포인트)"
      ],
      "metadata": {
        "id": "vxpROlvBJZU9"
      },
      "execution_count": null,
      "outputs": []
    },
    {
      "cell_type": "markdown",
      "source": [
        "##### 본인이 원하는 스키마에 테이블들을 만들어주세요. 저는 raw_data 스키마에 detail, prices라는 테이블들을 만들었습니다."
      ],
      "metadata": {
        "id": "zANw8JpjGUsZ"
      }
    },
    {
      "cell_type": "code",
      "source": [
        "%%sql\n",
        "\n",
        "CREATE TABLE raw_data.detail (\n",
        "    \"Company\" VARCHAR(50),\n",
        "    \"Ticker\" VARCHAR(50),\n",
        "    \"GICS sector\" VARCHAR(50),\n",
        "    \"GICS Sub-Industry\" VARCHAR(100)\n",
        ");"
      ],
      "metadata": {
        "id": "RBqYTGacTQoe"
      },
      "execution_count": null,
      "outputs": []
    },
    {
      "cell_type": "code",
      "source": [
        "%%sql\n",
        "\n",
        "CREATE TABLE raw_data.prices (\n",
        "    \"Date\" DATE,\n",
        "    \"AAPL\" FLOAT,\n",
        "    \"ABNB\" FLOAT,\n",
        "    \"ADBE\" FLOAT,\n",
        "    \"ADI\" FLOAT,\n",
        "    \"ADP\" FLOAT,\n",
        "    \"ADSK\" FLOAT,\n",
        "    \"AEP\" FLOAT,\n",
        "    \"ALGN\" FLOAT,\n",
        "    \"AMAT\" FLOAT,\n",
        "    \"AMD\" FLOAT,\n",
        "    \"AMGN\" FLOAT,\n",
        "    \"AMZN\" FLOAT,\n",
        "    \"ANSS\" FLOAT,\n",
        "    \"ASML\" FLOAT,\n",
        "    \"AVGO\" FLOAT,\n",
        "    \"AZN\" FLOAT,\n",
        "    \"BIIB\" FLOAT,\n",
        "    \"BKNG\" FLOAT,\n",
        "    \"BKR\" FLOAT,\n",
        "    \"CDNS\" FLOAT,\n",
        "    \"CEG\" FLOAT,\n",
        "    \"CHTR\" FLOAT,\n",
        "    \"CMCSA\" FLOAT,\n",
        "    \"COST\" FLOAT,\n",
        "    \"CPRT\" FLOAT,\n",
        "    \"CRWD\" FLOAT,\n",
        "    \"CSCO\" FLOAT,\n",
        "    \"CSGP\" FLOAT,\n",
        "    \"CSX\" FLOAT,\n",
        "    \"CTAS\" FLOAT,\n",
        "    \"CTSH\" FLOAT,\n",
        "    \"DDOG\" FLOAT,\n",
        "    \"DLTR\" FLOAT,\n",
        "    \"DXCM\" FLOAT,\n",
        "    \"EA\" FLOAT,\n",
        "    \"EBAY\" FLOAT,\n",
        "    \"ENPH\" FLOAT,\n",
        "    \"EXC\" FLOAT,\n",
        "    \"FANG\" FLOAT,\n",
        "    \"FAST\" FLOAT,\n",
        "    \"FTNT\" FLOAT,\n",
        "    \"GEHC\" FLOAT,\n",
        "    \"GFS\" FLOAT,\n",
        "    \"GILD\" FLOAT,\n",
        "    \"GOOG\" FLOAT,\n",
        "    \"GOOGL\" FLOAT,\n",
        "    \"HON\" FLOAT,\n",
        "    \"IDXX\" FLOAT,\n",
        "    \"ILMN\" FLOAT,\n",
        "    \"INTC\" FLOAT,\n",
        "    \"INTU\" FLOAT,\n",
        "    \"ISRG\" FLOAT,\n",
        "    \"JD\" FLOAT,\n",
        "    \"KDP\" FLOAT,\n",
        "    \"KHC\" FLOAT,\n",
        "    \"KLAC\" FLOAT,\n",
        "    \"LCID\" FLOAT,\n",
        "    \"LRCX\" FLOAT,\n",
        "    \"LULU\" FLOAT,\n",
        "    \"MAR\" FLOAT,\n",
        "    \"MCHP\" FLOAT,\n",
        "    \"MDLZ\" FLOAT,\n",
        "    \"MELI\" FLOAT,\n",
        "    \"META\" FLOAT,\n",
        "    \"MNST\" FLOAT,\n",
        "    \"MRNA\" FLOAT,\n",
        "    \"MRVL\" FLOAT,\n",
        "    \"MSFT\" FLOAT,\n",
        "    \"MU\" FLOAT,\n",
        "    \"NFLX\" FLOAT,\n",
        "    \"NVDA\" FLOAT,\n",
        "    \"NXPI\" FLOAT,\n",
        "    \"ODFL\" FLOAT,\n",
        "    \"ON\" FLOAT,\n",
        "    \"ORLY\" FLOAT,\n",
        "    \"PANW\" FLOAT,\n",
        "    \"PAYX\" FLOAT,\n",
        "    \"PCAR\" FLOAT,\n",
        "    \"PDD\" FLOAT,\n",
        "    \"PEP\" FLOAT,\n",
        "    \"PYPL\" FLOAT,\n",
        "    \"QCOM\" FLOAT,\n",
        "    \"REGN\" FLOAT,\n",
        "    \"ROST\" FLOAT,\n",
        "    \"SBUX\" FLOAT,\n",
        "    \"SGEN\" FLOAT,\n",
        "    \"SIRI\" FLOAT,\n",
        "    \"SNPS\" FLOAT,\n",
        "    \"TEAM\" FLOAT,\n",
        "    \"TMUS\" FLOAT,\n",
        "    \"TSLA\" FLOAT,\n",
        "    \"TTD\" FLOAT,\n",
        "    \"TXN\" FLOAT,\n",
        "    \"VRSK\" FLOAT,\n",
        "    \"VRTX\" FLOAT,\n",
        "    \"WBA\" FLOAT,\n",
        "    \"WBD\" FLOAT,\n",
        "    \"WDAY\" FLOAT,\n",
        "    \"XEL\" FLOAT,\n",
        "    \"ZM\" FLOAT,\n",
        "    \"ZS\" FLOAT\n",
        ");"
      ],
      "metadata": {
        "id": "IgbYHv0ySqyp"
      },
      "execution_count": null,
      "outputs": []
    },
    {
      "cell_type": "markdown",
      "source": [
        "### S3 버킷에 업로드한 Details.csv 파일을 COPY 명령어로 raw_data.detail 테이블에 벌크 업데이트합니다."
      ],
      "metadata": {
        "id": "KB7U648IGuR2"
      }
    },
    {
      "cell_type": "code",
      "source": [
        "%%sql\n",
        "\n",
        "COPY raw_data.detail\n",
        "FROM '(Details.csv를 업로드 한 S3 버킷의 URI)'\n",
        "credentials '(Redshift의 S3 접근 권한을 위해 생성해준 역할의 ARN)'\n",
        "delimiter ',' dateformat 'auto' timeformat 'auto' IGNOREHEADER 1 removequotes;"
      ],
      "metadata": {
        "id": "bPIBUf_mSqwc"
      },
      "execution_count": null,
      "outputs": []
    },
    {
      "cell_type": "markdown",
      "source": [
        "#### Details.csv 파일이 raw_data.detail에 정상적으로 벌크 업데이트 되었는지 확인해봅니다."
      ],
      "metadata": {
        "id": "ZIsH6lbSIdSy"
      }
    },
    {
      "cell_type": "code",
      "source": [
        "%%sql\n",
        "\n",
        "select *\n",
        "from raw_data.detail\n",
        "limit 10;"
      ],
      "metadata": {
        "id": "Df2seG8wSquM"
      },
      "execution_count": null,
      "outputs": []
    },
    {
      "cell_type": "markdown",
      "source": [
        "### S3 버킷에 업로드한 merged.csv 파일을 COPY 명령어로 raw_data.prices 테이블에 벌크 업데이트합니다."
      ],
      "metadata": {
        "id": "Te4z9vJCIoR2"
      }
    },
    {
      "cell_type": "code",
      "source": [
        "%%sql\n",
        "\n",
        "COPY raw_data.prices\n",
        "FROM '(merged.csv를 업로드 한 S3 버킷의 URI)'\n",
        "credentials '(Redshift의 S3 접근 권한을 위해 생성해준 역할의 ARN)'\n",
        "delimiter ',' dateformat 'auto' timeformat 'auto' IGNOREHEADER 1 removequotes;"
      ],
      "metadata": {
        "id": "HLxkN6DISqpv"
      },
      "execution_count": null,
      "outputs": []
    },
    {
      "cell_type": "markdown",
      "source": [
        "#### merged.csv 파일이 raw_data.prices에 정상적으로 벌크 업데이트 되었는지 확인해봅니다."
      ],
      "metadata": {
        "id": "Cr8E0E6wJxes"
      }
    },
    {
      "cell_type": "code",
      "source": [
        "%%sql\n",
        "\n",
        "select *\n",
        "from raw_data.prices\n",
        "limit 10;"
      ],
      "metadata": {
        "id": "7V16lNz1SqnW"
      },
      "execution_count": null,
      "outputs": []
    }
  ]
}